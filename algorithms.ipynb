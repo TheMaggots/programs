{
 "cells": [
  {
   "cell_type": "markdown",
   "metadata": {},
   "source": [
    "# Fizz Buzz\n",
    "problem\n",
    "\n",
    "input=list with in range of 1 to n\n",
    "if num is multiple of 3 print(fizz)\n",
    "if num is multipe of 5 print(Buzz)\n",
    "if num is multiple of both 5 and 3 then print(fizzbuzz)"
   ]
  },
  {
   "cell_type": "code",
   "execution_count": 8,
   "metadata": {},
   "outputs": [
    {
     "name": "stdout",
     "output_type": "stream",
     "text": [
      "100\n",
      "[1, 2, 3, 4, 5, 6, 7, 8, 9, 10, 11, 12, 13, 14, 15, 16, 17, 18, 19, 20, 21, 22, 23, 24, 25, 26, 27, 28, 29, 30, 31, 32, 33, 34, 35, 36, 37, 38, 39, 40, 41, 42, 43, 44, 45, 46, 47, 48, 49, 50, 51, 52, 53, 54, 55, 56, 57, 58, 59, 60, 61, 62, 63, 64, 65, 66, 67, 68, 69, 70, 71, 72, 73, 74, 75, 76, 77, 78, 79, 80, 81, 82, 83, 84, 85, 86, 87, 88, 89, 90, 91, 92, 93, 94, 95, 96, 97, 98, 99, 100]\n"
     ]
    }
   ],
   "source": [
    "n=int(input())\n",
    "l=list(range(1,n+1))\n",
    "print(l)"
   ]
  },
  {
   "cell_type": "code",
   "execution_count": 9,
   "metadata": {},
   "outputs": [
    {
     "name": "stdout",
     "output_type": "stream",
     "text": [
      "11.3 µs ± 270 ns per loop (mean ± std. dev. of 7 runs, 100000 loops each)\n"
     ]
    }
   ],
   "source": [
    "%%timeit\n",
    "for i in l:\n",
    "    if i%3==0 and i%5==0:\n",
    "           pass\n",
    "    #print(str(i)+' fizz buzz')\n",
    "    elif i%3==0:\n",
    "        pass\n",
    "        #print(str(i)+' fizz')\n",
    "    elif i%5==0:\n",
    "        pass\n",
    "        #print(str(i)+' buzz')"
   ]
  },
  {
   "cell_type": "code",
   "execution_count": 10,
   "metadata": {},
   "outputs": [
    {
     "name": "stdout",
     "output_type": "stream",
     "text": [
      "9.83 µs ± 83.4 ns per loop (mean ± std. dev. of 7 runs, 100000 loops each)\n"
     ]
    }
   ],
   "source": [
    "%%timeit\n",
    "for i in l:\n",
    "    if i%15==0:\n",
    "           pass\n",
    "    #print(str(i)+' fizz buzz')\n",
    "    elif i%3==0:\n",
    "        pass\n",
    "        #print(str(i)+' fizz')\n",
    "    elif i%5==0:\n",
    "        pass\n",
    "        #print(str(i)+' buzz')"
   ]
  },
  {
   "cell_type": "markdown",
   "metadata": {},
   "source": [
    "array rotation"
   ]
  },
  {
   "cell_type": "markdown",
   "metadata": {},
   "source": [
    "# reversal algorithm\n",
    "left rotation"
   ]
  },
  {
   "cell_type": "code",
   "execution_count": 13,
   "metadata": {},
   "outputs": [],
   "source": [
    "def reverse(l):\n",
    "    return l[::-1]"
   ]
  },
  {
   "cell_type": "code",
   "execution_count": 25,
   "metadata": {},
   "outputs": [
    {
     "name": "stdout",
     "output_type": "stream",
     "text": [
      "7\n",
      "3\n",
      "1 2 3 4 5 6 7\n",
      "[1, 2, 3, 4, 5, 6, 7]\n",
      "[3, 2, 1, 4, 5, 6, 7]\n",
      "[3, 2, 1, 7, 6, 5, 4]\n"
     ]
    }
   ],
   "source": [
    "n=int(input())\n",
    "d=int(input())\n",
    "l=list(map(int,input().split()))\n",
    "print(l)\n",
    "l[0:d]=reverse(l[0:d])\n",
    "print(l)\n",
    "l[d:]=reverse(l[d:])\n",
    "print(l)"
   ]
  },
  {
   "cell_type": "code",
   "execution_count": 24,
   "metadata": {},
   "outputs": [
    {
     "name": "stdout",
     "output_type": "stream",
     "text": [
      "[4, 5, 6, 7, 1, 2, 3]\n"
     ]
    }
   ],
   "source": [
    "print(reverse(l))"
   ]
  },
  {
   "cell_type": "markdown",
   "metadata": {},
   "source": [
    "# reversal alogorithm\n",
    "right rotation"
   ]
  },
  {
   "cell_type": "code",
   "execution_count": 32,
   "metadata": {},
   "outputs": [
    {
     "name": "stdout",
     "output_type": "stream",
     "text": [
      "10\n",
      "1 2 3 4 5 6 7 8 9 10\n",
      "3\n",
      "[1, 2, 3, 4, 5, 6, 7, 10, 9, 8]\n",
      "[7, 6, 5, 4, 3, 2, 1, 10, 9, 8]\n",
      "[8, 9, 10, 1, 2, 3, 4, 5, 6, 7]\n"
     ]
    }
   ],
   "source": [
    "n=int(input())\n",
    "l=list(map(int,input().split()))\n",
    "k=int(input())\n",
    "l[-k:]=reverse(l[-k:])\n",
    "print(l)\n",
    "l[0:n-k]=reverse(l[0:n-k])\n",
    "print(l)\n",
    "print(reverse(l))"
   ]
  },
  {
   "cell_type": "markdown",
   "metadata": {},
   "source": [
    "# Program to cyclically rotate an array by one"
   ]
  },
  {
   "cell_type": "code",
   "execution_count": 34,
   "metadata": {},
   "outputs": [
    {
     "name": "stdout",
     "output_type": "stream",
     "text": [
      "5\n",
      "12 13 14 15 16\n",
      "[16, 12, 13, 14, 15]\n"
     ]
    }
   ],
   "source": [
    "n=int(input())\n",
    "l=list(map(int,input().split()))\n",
    "temp=l[-1]\n",
    "for i in range(len(l)-1,0,-1):\n",
    "    l[i]=l[i-1]\n",
    "l[0]=temp\n",
    "print(l)"
   ]
  },
  {
   "cell_type": "markdown",
   "metadata": {},
   "source": [
    "# searching element after rotation"
   ]
  },
  {
   "cell_type": "code",
   "execution_count": null,
   "metadata": {},
   "outputs": [],
   "source": [
    "l=[8, 9, 10, 1, 2, 3, 4, 5, 6, 7]\n",
    "mid=len(l)//2\n",
    "left=l[0:mid+1]\n",
    "right=l[mid:]\n",
    "print(left,right)\n",
    "key=int(input())\n",
    "if key==l[mid]:\n",
    "    print(\"element found at %d\"%mid)\n",
    "else:\n",
    "    if key>l[0]:\n",
    "        #search in left array\n",
    "        pass\n",
    "    else:\n",
    "        pass\n",
    "        #search in right array\n",
    "#if element is found return index else return -1"
   ]
  },
  {
   "cell_type": "code",
   "execution_count": 4,
   "metadata": {},
   "outputs": [
    {
     "name": "stdout",
     "output_type": "stream",
     "text": [
      "[1, 2, 4, 3, 5, 7, 6, 8, 9]\n"
     ]
    }
   ],
   "source": [
    "l=[[1,2,3],[4,5,6],[7,8,9]]\n",
    "l1=[]\n",
    "k=0\n",
    "while k<=len(l)+1:\n",
    "    for i in range(0,len(l)):\n",
    "        for j in range(0,len(l[i])):\n",
    "            if i+j==k:\n",
    "                l1.append(l[i][j])\n",
    "    k=k+1\n",
    "print(l1)"
   ]
  },
  {
   "cell_type": "markdown",
   "metadata": {},
   "source": [
    "# Matrix rotation"
   ]
  },
  {
   "cell_type": "code",
   "execution_count": 19,
   "metadata": {},
   "outputs": [],
   "source": [
    "def rotate(m):\n",
    "    top=0\n",
    "    bottom=len(m)-1\n",
    "    left=0\n",
    "    right=len(m[0])-1\n",
    "    while left<right and top<bottom:\n",
    "        prev=m[top+1][left]\n",
    "        for i in range(left,right+1):\n",
    "            cur=m[top][i]\n",
    "            m[top][i]=prev\n",
    "            prev=cur\n",
    "        top+=1\n",
    "        print(\"moving elements of top row\")\n",
    "        print(m)\n",
    "        for i in range(top,bottom+1):\n",
    "            cur=m[i][right]\n",
    "            m[i][right]=prev\n",
    "            prev=cur\n",
    "        right=right-1\n",
    "        print(\"moving elements of downwards by one step \")\n",
    "        print(m)\n",
    "        for i in range(right,left-1,-1):\n",
    "            cur=m[bottom][i]\n",
    "            m[bottom][i]=prev\n",
    "            prev=cur\n",
    "        bottom=bottom-1\n",
    "        print(\"moving elements by one step left\")\n",
    "        print(m)\n",
    "        for i in range(bottom,top-1,-1):\n",
    "            cur=m[i][left]\n",
    "            m[i][left]=prev\n",
    "            prev=cur\n",
    "        left=left+1\n",
    "        print(\"moving elements by one step up\")\n",
    "        print(m)\n",
    "    return m"
   ]
  },
  {
   "cell_type": "code",
   "execution_count": 20,
   "metadata": {},
   "outputs": [
    {
     "name": "stdout",
     "output_type": "stream",
     "text": [
      "moving elements of top row\n",
      "[[5, 1, 2, 3], [5, 6, 7, 8], [9, 10, 11, 12], [13, 14, 15, 16]]\n",
      "moving elements of downwards by one step \n",
      "[[5, 1, 2, 3], [5, 6, 7, 4], [9, 10, 11, 8], [13, 14, 15, 12]]\n",
      "moving elements by one step left\n",
      "[[5, 1, 2, 3], [5, 6, 7, 4], [9, 10, 11, 8], [14, 15, 16, 12]]\n",
      "moving elements by one step up\n",
      "[[5, 1, 2, 3], [9, 6, 7, 4], [13, 10, 11, 8], [14, 15, 16, 12]]\n",
      "moving elements of top row\n",
      "[[5, 1, 2, 3], [9, 10, 6, 4], [13, 10, 11, 8], [14, 15, 16, 12]]\n",
      "moving elements of downwards by one step \n",
      "[[5, 1, 2, 3], [9, 10, 6, 4], [13, 10, 7, 8], [14, 15, 16, 12]]\n",
      "moving elements by one step left\n",
      "[[5, 1, 2, 3], [9, 10, 6, 4], [13, 11, 7, 8], [14, 15, 16, 12]]\n",
      "moving elements by one step up\n",
      "[[5, 1, 2, 3], [9, 10, 6, 4], [13, 11, 7, 8], [14, 15, 16, 12]]\n",
      "After rotation\n",
      "[[5, 1, 2, 3], [9, 10, 6, 4], [13, 11, 7, 8], [14, 15, 16, 12]]\n"
     ]
    }
   ],
   "source": [
    "mat=[[1,2,3,4],[5,6,7,8],[9,10,11,12],[13,14,15,16]]\n",
    "mat=rotate(mat)\n",
    "print(\"After rotation\")\n",
    "print(mat)"
   ]
  },
  {
   "cell_type": "markdown",
   "metadata": {},
   "source": [
    "# Find maximum element of each row in a matrix"
   ]
  },
  {
   "cell_type": "code",
   "execution_count": 34,
   "metadata": {},
   "outputs": [
    {
     "name": "stdout",
     "output_type": "stream",
     "text": [
      "1.15 µs ± 157 ns per loop (mean ± std. dev. of 7 runs, 1000000 loops each)\n"
     ]
    }
   ],
   "source": [
    "%%timeit\n",
    "for i in range(len(mat)):\n",
    "    max(mat[i])\n",
    "    #print(mat[t],max(mat[i]))"
   ]
  },
  {
   "cell_type": "code",
   "execution_count": 35,
   "metadata": {},
   "outputs": [],
   "source": [
    "def maximum(l):\n",
    "    max=l[0]\n",
    "    for i in range(1,len(l)):\n",
    "        if l[0]>max:\n",
    "            max=l[0]\n",
    "    return max"
   ]
  },
  {
   "cell_type": "code",
   "execution_count": 36,
   "metadata": {},
   "outputs": [
    {
     "name": "stdout",
     "output_type": "stream",
     "text": [
      "2.5 µs ± 255 ns per loop (mean ± std. dev. of 7 runs, 100000 loops each)\n"
     ]
    }
   ],
   "source": [
    "%%timeit\n",
    "for i in range(len(mat)):\n",
    "    maximum(mat[i])\n",
    "    #print(mat[i],maximum(mat[i]))"
   ]
  },
  {
   "cell_type": "markdown",
   "metadata": {},
   "source": [
    "# sum of squaring of diagonal elements"
   ]
  },
  {
   "cell_type": "code",
   "execution_count": 72,
   "metadata": {},
   "outputs": [
    {
     "name": "stdout",
     "output_type": "stream",
     "text": [
      "diagonal1 27\n",
      "diagonal2 83\n"
     ]
    }
   ],
   "source": [
    "m=[[1,2,3],[4,5,6],[7,8,1]]\n",
    "s1=s2=0\n",
    "c=len(mat)-2\n",
    "for i in range(len(m)):\n",
    "    s1=s1+m[i][i]**2\n",
    "    s2=s2+m[i][c]**2\n",
    "    #print(s2)\n",
    "    c=c-1\n",
    "print(\"diagonal1\",s1)\n",
    "print(\"diagonal2\",s2)"
   ]
  },
  {
   "cell_type": "markdown",
   "metadata": {},
   "source": [
    "# Rearrange an array such that arr[i] = i"
   ]
  },
  {
   "cell_type": "code",
   "execution_count": 25,
   "metadata": {},
   "outputs": [
    {
     "name": "stdout",
     "output_type": "stream",
     "text": [
      "1\n",
      "10\n",
      "-1 -1 6 1 9 3 2 -1 4 -1\n",
      "[-1, 1, 6, -1, 9, 3, 2, -1, 4, -1]\n",
      "[-1, 1, 2, -1, 9, 3, 6, -1, 4, -1]\n",
      "[-1, 1, 2, 3, 9, -1, 6, -1, 4, -1]\n",
      "[-1, 1, 2, 3, 4, -1, 6, -1, 9, -1]\n",
      "[-1, 1, 2, 3, 4, -1, 6, -1, 9, -1]\n",
      "[-1, 1, 2, 3, 4, -1, 6, -1, -1, 9]\n",
      "[-1, 1, 2, 3, 4, -1, 6, -1, -1, 9]\n"
     ]
    }
   ],
   "source": [
    "test=int(input())\n",
    "for i  in range(test):\n",
    "    n=int(input())\n",
    "    l=list(map(int,input().split()))\n",
    "    for i in range(n):\n",
    "            if i in l:\n",
    "                temp=l[l.index(i)]\n",
    "                #l[l.index(i)]=100\n",
    "                l[l.index(i)]=l[i]\n",
    "                l[i]=temp\n",
    "                #l[i],l[l.index(i)]=l[l.index(i)],l[i]\n",
    "                print(l)\n",
    "    print(l)"
   ]
  },
  {
   "cell_type": "markdown",
   "metadata": {},
   "source": [
    "# Non-Repeating Element"
   ]
  },
  {
   "cell_type": "code",
   "execution_count": 29,
   "metadata": {},
   "outputs": [
    {
     "name": "stdout",
     "output_type": "stream",
     "text": [
      "1\n",
      "5\n",
      "-1 2 -1 3 2\n",
      "3\n"
     ]
    }
   ],
   "source": [
    "test=int(input())\n",
    "for i in range(test):\n",
    "    size=int(input())\n",
    "    #flag=0\n",
    "    l=list(map(int,input().split()))\n",
    "    for i in range(size):\n",
    "        if l.count(l[i])==1:\n",
    "            print(l[i])\n",
    "            #flag=1\n",
    "            break\n",
    "    else:\n",
    "        print(0)"
   ]
  },
  {
   "cell_type": "markdown",
   "metadata": {},
   "source": [
    "# spiral matrix"
   ]
  },
  {
   "cell_type": "code",
   "execution_count": 37,
   "metadata": {},
   "outputs": [],
   "source": [
    "def rotate(m):\n",
    "    top=0\n",
    "    bottom=len(m)-1\n",
    "    left=0\n",
    "    right=len(m[0])-1\n",
    "    while left<=right and top<=bottom:\n",
    "        prev=m[top+1][left]\n",
    "        for i in range(left,right+1):\n",
    "            print(m[top][i],end=\" \")\n",
    "        top+=1\n",
    "        for i in range(top,bottom+1):\n",
    "            print(m[i][right],end=\" \")\n",
    "        right=right-1\n",
    "        for i in range(right,left-1,-1):\n",
    "            print(m[bottom][i],end=\" \")\n",
    "        bottom=bottom-1\n",
    "        for i in range(bottom,top-1,-1):\n",
    "            print(m[i][left],end=\" \")\n",
    "        left=left+1"
   ]
  },
  {
   "cell_type": "code",
   "execution_count": 38,
   "metadata": {},
   "outputs": [
    {
     "name": "stdout",
     "output_type": "stream",
     "text": [
      "1 2 3 4 8 12 16 15 14 13 9 5 6 7 11 10 "
     ]
    }
   ],
   "source": [
    "l=[[1,2,3,4],[5,6,7,8],[9,10,11,12],[13,14,15,16]]\n",
    "rotate(l)"
   ]
  },
  {
   "cell_type": "markdown",
   "metadata": {},
   "source": [
    "# Print a sequence of numbers starting with N, without using loop, in which  A[i+1] = A[i] - 5,  if  A[i]>0, else A[i+1]=A[i] + 5  repeat it until A[i]=N."
   ]
  },
  {
   "cell_type": "code",
   "execution_count": 60,
   "metadata": {},
   "outputs": [],
   "source": [
    "def pattren1(n,m):\n",
    "    if n==m:\n",
    "        print(n)\n",
    "        return \n",
    "    else:\n",
    "        print(n,end=\" \")\n",
    "        pattren1(n+5,m)\n",
    "def pattren(n,m):\n",
    "    if n>0:\n",
    "        print(n,end=\" \")\n",
    "        pattren(n-5,m)\n",
    "    else:\n",
    "        pattren1(n,m)\n",
    "    '''elif n<0:\n",
    "        print(n+5,end=\" \")\n",
    "        pattren(n+5,m)\n",
    "    elif n==m:\n",
    "        return'''"
   ]
  },
  {
   "cell_type": "code",
   "execution_count": 61,
   "metadata": {},
   "outputs": [
    {
     "name": "stdout",
     "output_type": "stream",
     "text": [
      "10 5 0 5 10\n"
     ]
    }
   ],
   "source": [
    "pattren(10,10)"
   ]
  },
  {
   "cell_type": "markdown",
   "metadata": {},
   "source": [
    "#  Find the row with the maximum number of 1s."
   ]
  },
  {
   "cell_type": "code",
   "execution_count": 73,
   "metadata": {},
   "outputs": [
    {
     "name": "stdout",
     "output_type": "stream",
     "text": [
      "1\n",
      "4 7\n",
      "0 0 1 1 1 1 1 0 0 0 1 1 1 1 0 0 0 0 0 1 1 0 0 0 1 1 1 1 \n",
      "[5, 4, 2, 4]\n",
      "0\n"
     ]
    }
   ],
   "source": [
    "test=int(input())\n",
    "for i in range(test):\n",
    "    m,n=map(int,input().split())\n",
    "    l=list(map(int,input().split()))\n",
    "    j=0\n",
    "    k=[]\n",
    "    while j<m*n:\n",
    "        k.append(l[j:j+n].count(1))\n",
    "        j=j+n\n",
    "    print(k)\n",
    "    print(k.index(max(k)))"
   ]
  },
  {
   "cell_type": "code",
   "execution_count": 1,
   "metadata": {},
   "outputs": [
    {
     "name": "stdout",
     "output_type": "stream",
     "text": [
      "1\n",
      "3\n",
      "1*2*3*10*11*12*1*2*11*12*1*12*"
     ]
    }
   ],
   "source": [
    "t=int(input())\n",
    "for i in range(t):\n",
    "    n=int(input())\n",
    "    total=n*(n+1)\n",
    "    l=list(range(1,total+1))\n",
    "    #print(l)\n",
    "    m=n\n",
    "    while m>0:\n",
    "        for j in range(1,m+1):\n",
    "            print(str(j)+'*',end=\"\")\n",
    "        for k in range(-m,0,1):\n",
    "            print(str(l[k])+'*',end=\"\")\n",
    "        m=m-1"
   ]
  },
  {
   "cell_type": "markdown",
   "metadata": {},
   "source": [
    "# Hashing"
   ]
  },
  {
   "cell_type": "markdown",
   "metadata": {},
   "source": [
    "# Linear hashing"
   ]
  },
  {
   "cell_type": "code",
   "execution_count": 4,
   "metadata": {},
   "outputs": [
    {
     "name": "stdout",
     "output_type": "stream",
     "text": [
      "17\n",
      "94 37 29 40 84 88 102 63 67 120 122\n",
      "[102, 67, 120, 37, 88, 122, 40, 0, 0, 94, 0, 0, 29, 63, 0, 0, 84, 0]\n"
     ]
    }
   ],
   "source": [
    "mod=int(input())\n",
    "q=list(map(int,input().split()))\n",
    "l=[0]*(mod+1)\n",
    "for i in range(len(q)):\n",
    "    if l[q[i]%mod]==0:\n",
    "        l[q[i]%mod]=q[i]\n",
    "    else:\n",
    "        j=1\n",
    "        while j<len(l):\n",
    "            if l[(q[i]+j)%mod]!=0:\n",
    "                j=j+1\n",
    "            else:\n",
    "                break\n",
    "        l[(q[i]+j)%mod]=q[i]\n",
    "print(l)"
   ]
  },
  {
   "cell_type": "markdown",
   "metadata": {},
   "source": [
    "# Quadratic hashing"
   ]
  },
  {
   "cell_type": "code",
   "execution_count": 5,
   "metadata": {},
   "outputs": [
    {
     "name": "stdout",
     "output_type": "stream",
     "text": [
      "17\n",
      "94 37 29 40 84 88 102 63 67 120 122\n",
      "[102, 120, 0, 37, 88, 0, 40, 122, 67, 94, 0, 0, 29, 63, 0, 0, 84, 0]\n"
     ]
    }
   ],
   "source": [
    "mod=int(input())\n",
    "q=list(map(int,input().split()))\n",
    "l=[0]*(mod+1)\n",
    "for i in range(len(q)):\n",
    "    if l[q[i]%mod]==0:\n",
    "        l[q[i]%mod]=q[i]\n",
    "    else:\n",
    "        j=1\n",
    "        while j<len(l):\n",
    "            if l[(q[i]+(j**2))%mod]!=0:\n",
    "                j=j+1\n",
    "            else:\n",
    "                break\n",
    "        l[(q[i]+(j**2))%mod]=q[i]\n",
    "print(l)"
   ]
  }
 ],
 "metadata": {
  "kernelspec": {
   "display_name": "Python 3",
   "language": "python",
   "name": "python3"
  },
  "language_info": {
   "codemirror_mode": {
    "name": "ipython",
    "version": 3
   },
   "file_extension": ".py",
   "mimetype": "text/x-python",
   "name": "python",
   "nbconvert_exporter": "python",
   "pygments_lexer": "ipython3",
   "version": "3.7.3"
  }
 },
 "nbformat": 4,
 "nbformat_minor": 2
}
